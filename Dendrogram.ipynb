{
 "cells": [
  {
   "cell_type": "code",
   "execution_count": 86,
   "id": "38c72258",
   "metadata": {},
   "outputs": [],
   "source": [
    "import pandas as pd\n",
    "import numpy as np\n",
    "from sklearn.preprocessing import MinMaxScaler\n",
    "import seaborn as sns\n",
    "from sklearn.preprocessing import StandardScaler\n",
    "import matplotlib.pyplot as plt\n",
    "import warnings\n",
    "warnings.filterwarnings('ignore')"
   ]
  },
  {
   "cell_type": "code",
   "execution_count": 87,
   "id": "59198c37",
   "metadata": {},
   "outputs": [
    {
     "data": {
      "text/html": [
       "<div>\n",
       "<style scoped>\n",
       "    .dataframe tbody tr th:only-of-type {\n",
       "        vertical-align: middle;\n",
       "    }\n",
       "\n",
       "    .dataframe tbody tr th {\n",
       "        vertical-align: top;\n",
       "    }\n",
       "\n",
       "    .dataframe thead th {\n",
       "        text-align: right;\n",
       "    }\n",
       "</style>\n",
       "<table border=\"1\" class=\"dataframe\">\n",
       "  <thead>\n",
       "    <tr style=\"text-align: right;\">\n",
       "      <th></th>\n",
       "      <th>Age</th>\n",
       "      <th>Gender</th>\n",
       "      <th>Loyalty Member</th>\n",
       "      <th>Product Type</th>\n",
       "      <th>SKU</th>\n",
       "      <th>Rating</th>\n",
       "      <th>Order Status</th>\n",
       "      <th>Payment Method</th>\n",
       "      <th>Total Price</th>\n",
       "      <th>Unit Price</th>\n",
       "      <th>Quantity</th>\n",
       "      <th>Purchase Date</th>\n",
       "      <th>Shipping Type</th>\n",
       "      <th>Add-ons Purchased</th>\n",
       "      <th>Add-on Total</th>\n",
       "    </tr>\n",
       "    <tr>\n",
       "      <th>Customer ID</th>\n",
       "      <th></th>\n",
       "      <th></th>\n",
       "      <th></th>\n",
       "      <th></th>\n",
       "      <th></th>\n",
       "      <th></th>\n",
       "      <th></th>\n",
       "      <th></th>\n",
       "      <th></th>\n",
       "      <th></th>\n",
       "      <th></th>\n",
       "      <th></th>\n",
       "      <th></th>\n",
       "      <th></th>\n",
       "      <th></th>\n",
       "    </tr>\n",
       "  </thead>\n",
       "  <tbody>\n",
       "    <tr>\n",
       "      <th>1000</th>\n",
       "      <td>53</td>\n",
       "      <td>Male</td>\n",
       "      <td>No</td>\n",
       "      <td>Smartphone</td>\n",
       "      <td>SKU1004</td>\n",
       "      <td>2</td>\n",
       "      <td>Cancelled</td>\n",
       "      <td>Credit Card</td>\n",
       "      <td>5538.33</td>\n",
       "      <td>791.19</td>\n",
       "      <td>7</td>\n",
       "      <td>2024-03-20</td>\n",
       "      <td>Standard</td>\n",
       "      <td>Accessory,Accessory,Accessory</td>\n",
       "      <td>40.21</td>\n",
       "    </tr>\n",
       "    <tr>\n",
       "      <th>1000</th>\n",
       "      <td>53</td>\n",
       "      <td>Male</td>\n",
       "      <td>No</td>\n",
       "      <td>Tablet</td>\n",
       "      <td>SKU1002</td>\n",
       "      <td>3</td>\n",
       "      <td>Completed</td>\n",
       "      <td>Paypal</td>\n",
       "      <td>741.09</td>\n",
       "      <td>247.03</td>\n",
       "      <td>3</td>\n",
       "      <td>2024-04-20</td>\n",
       "      <td>Overnight</td>\n",
       "      <td>Impulse Item</td>\n",
       "      <td>26.09</td>\n",
       "    </tr>\n",
       "    <tr>\n",
       "      <th>1002</th>\n",
       "      <td>41</td>\n",
       "      <td>Male</td>\n",
       "      <td>No</td>\n",
       "      <td>Laptop</td>\n",
       "      <td>SKU1005</td>\n",
       "      <td>3</td>\n",
       "      <td>Completed</td>\n",
       "      <td>Credit Card</td>\n",
       "      <td>1855.84</td>\n",
       "      <td>463.96</td>\n",
       "      <td>4</td>\n",
       "      <td>2023-10-17</td>\n",
       "      <td>Express</td>\n",
       "      <td>NaN</td>\n",
       "      <td>0.00</td>\n",
       "    </tr>\n",
       "    <tr>\n",
       "      <th>1002</th>\n",
       "      <td>41</td>\n",
       "      <td>Male</td>\n",
       "      <td>Yes</td>\n",
       "      <td>Smartphone</td>\n",
       "      <td>SKU1004</td>\n",
       "      <td>2</td>\n",
       "      <td>Completed</td>\n",
       "      <td>Cash</td>\n",
       "      <td>3164.76</td>\n",
       "      <td>791.19</td>\n",
       "      <td>4</td>\n",
       "      <td>2024-08-09</td>\n",
       "      <td>Overnight</td>\n",
       "      <td>Impulse Item,Impulse Item</td>\n",
       "      <td>60.16</td>\n",
       "    </tr>\n",
       "    <tr>\n",
       "      <th>1003</th>\n",
       "      <td>75</td>\n",
       "      <td>Male</td>\n",
       "      <td>Yes</td>\n",
       "      <td>Smartphone</td>\n",
       "      <td>SKU1001</td>\n",
       "      <td>5</td>\n",
       "      <td>Completed</td>\n",
       "      <td>Cash</td>\n",
       "      <td>41.50</td>\n",
       "      <td>20.75</td>\n",
       "      <td>2</td>\n",
       "      <td>2024-05-21</td>\n",
       "      <td>Express</td>\n",
       "      <td>Accessory</td>\n",
       "      <td>35.56</td>\n",
       "    </tr>\n",
       "  </tbody>\n",
       "</table>\n",
       "</div>"
      ],
      "text/plain": [
       "             Age Gender Loyalty Member Product Type      SKU  Rating  \\\n",
       "Customer ID                                                            \n",
       "1000          53   Male             No   Smartphone  SKU1004       2   \n",
       "1000          53   Male             No       Tablet  SKU1002       3   \n",
       "1002          41   Male             No       Laptop  SKU1005       3   \n",
       "1002          41   Male            Yes   Smartphone  SKU1004       2   \n",
       "1003          75   Male            Yes   Smartphone  SKU1001       5   \n",
       "\n",
       "            Order Status Payment Method  Total Price  Unit Price  Quantity  \\\n",
       "Customer ID                                                                  \n",
       "1000           Cancelled    Credit Card      5538.33      791.19         7   \n",
       "1000           Completed         Paypal       741.09      247.03         3   \n",
       "1002           Completed    Credit Card      1855.84      463.96         4   \n",
       "1002           Completed           Cash      3164.76      791.19         4   \n",
       "1003           Completed           Cash        41.50       20.75         2   \n",
       "\n",
       "            Purchase Date Shipping Type              Add-ons Purchased  \\\n",
       "Customer ID                                                              \n",
       "1000           2024-03-20      Standard  Accessory,Accessory,Accessory   \n",
       "1000           2024-04-20     Overnight                   Impulse Item   \n",
       "1002           2023-10-17       Express                            NaN   \n",
       "1002           2024-08-09     Overnight      Impulse Item,Impulse Item   \n",
       "1003           2024-05-21       Express                      Accessory   \n",
       "\n",
       "             Add-on Total  \n",
       "Customer ID                \n",
       "1000                40.21  \n",
       "1000                26.09  \n",
       "1002                 0.00  \n",
       "1002                60.16  \n",
       "1003                35.56  "
      ]
     },
     "execution_count": 87,
     "metadata": {},
     "output_type": "execute_result"
    }
   ],
   "source": [
    "df = pd.read_csv('Electronic_sales_Sep2023-Sep2024.csv', index_col = 'Customer ID')\n",
    "df.head()"
   ]
  },
  {
   "cell_type": "code",
   "execution_count": 88,
   "id": "d3df8a18",
   "metadata": {},
   "outputs": [
    {
     "data": {
      "text/plain": [
       "(20000, 15)"
      ]
     },
     "execution_count": 88,
     "metadata": {},
     "output_type": "execute_result"
    }
   ],
   "source": [
    "df.shape"
   ]
  },
  {
   "cell_type": "code",
   "execution_count": 89,
   "id": "9fb8cd2b",
   "metadata": {},
   "outputs": [
    {
     "data": {
      "text/plain": [
       "Age                     0\n",
       "Gender                  1\n",
       "Loyalty Member          0\n",
       "Product Type            0\n",
       "SKU                     0\n",
       "Rating                  0\n",
       "Order Status            0\n",
       "Payment Method          0\n",
       "Total Price             0\n",
       "Unit Price              0\n",
       "Quantity                0\n",
       "Purchase Date           0\n",
       "Shipping Type           0\n",
       "Add-ons Purchased    4868\n",
       "Add-on Total            0\n",
       "dtype: int64"
      ]
     },
     "execution_count": 89,
     "metadata": {},
     "output_type": "execute_result"
    }
   ],
   "source": [
    "df.apply(pd.isnull).sum()"
   ]
  },
  {
   "cell_type": "code",
   "execution_count": 90,
   "id": "de35dc30",
   "metadata": {},
   "outputs": [],
   "source": [
    "data = df.copy()"
   ]
  },
  {
   "cell_type": "code",
   "execution_count": 91,
   "id": "5eb49d12",
   "metadata": {},
   "outputs": [],
   "source": [
    "data.dropna(subset = ['Gender', 'Add-ons Purchased'], inplace = True)"
   ]
  },
  {
   "cell_type": "code",
   "execution_count": 92,
   "id": "f90f9af9",
   "metadata": {},
   "outputs": [
    {
     "data": {
      "text/plain": [
       "Age                  0\n",
       "Gender               0\n",
       "Loyalty Member       0\n",
       "Product Type         0\n",
       "SKU                  0\n",
       "Rating               0\n",
       "Order Status         0\n",
       "Payment Method       0\n",
       "Total Price          0\n",
       "Unit Price           0\n",
       "Quantity             0\n",
       "Purchase Date        0\n",
       "Shipping Type        0\n",
       "Add-ons Purchased    0\n",
       "Add-on Total         0\n",
       "dtype: int64"
      ]
     },
     "execution_count": 92,
     "metadata": {},
     "output_type": "execute_result"
    }
   ],
   "source": [
    "data.isnull().sum()"
   ]
  },
  {
   "cell_type": "code",
   "execution_count": 93,
   "id": "babeb21a",
   "metadata": {},
   "outputs": [
    {
     "data": {
      "text/plain": [
       "(15132, 15)"
      ]
     },
     "execution_count": 93,
     "metadata": {},
     "output_type": "execute_result"
    }
   ],
   "source": [
    "data.shape"
   ]
  },
  {
   "cell_type": "code",
   "execution_count": 94,
   "id": "2fa4ca0c",
   "metadata": {},
   "outputs": [
    {
     "name": "stdout",
     "output_type": "stream",
     "text": [
      "<class 'pandas.core.frame.DataFrame'>\n",
      "Index: 15132 entries, 1000 to 19997\n",
      "Data columns (total 15 columns):\n",
      " #   Column             Non-Null Count  Dtype  \n",
      "---  ------             --------------  -----  \n",
      " 0   Age                15132 non-null  int64  \n",
      " 1   Gender             15132 non-null  object \n",
      " 2   Loyalty Member     15132 non-null  object \n",
      " 3   Product Type       15132 non-null  object \n",
      " 4   SKU                15132 non-null  object \n",
      " 5   Rating             15132 non-null  int64  \n",
      " 6   Order Status       15132 non-null  object \n",
      " 7   Payment Method     15132 non-null  object \n",
      " 8   Total Price        15132 non-null  float64\n",
      " 9   Unit Price         15132 non-null  float64\n",
      " 10  Quantity           15132 non-null  int64  \n",
      " 11  Purchase Date      15132 non-null  object \n",
      " 12  Shipping Type      15132 non-null  object \n",
      " 13  Add-ons Purchased  15132 non-null  object \n",
      " 14  Add-on Total       15132 non-null  float64\n",
      "dtypes: float64(3), int64(3), object(9)\n",
      "memory usage: 1.8+ MB\n"
     ]
    }
   ],
   "source": [
    "data.info()"
   ]
  },
  {
   "cell_type": "code",
   "execution_count": 95,
   "id": "4dfe8130",
   "metadata": {},
   "outputs": [
    {
     "data": {
      "text/html": [
       "<div>\n",
       "<style scoped>\n",
       "    .dataframe tbody tr th:only-of-type {\n",
       "        vertical-align: middle;\n",
       "    }\n",
       "\n",
       "    .dataframe tbody tr th {\n",
       "        vertical-align: top;\n",
       "    }\n",
       "\n",
       "    .dataframe thead th {\n",
       "        text-align: right;\n",
       "    }\n",
       "</style>\n",
       "<table border=\"1\" class=\"dataframe\">\n",
       "  <thead>\n",
       "    <tr style=\"text-align: right;\">\n",
       "      <th></th>\n",
       "      <th>Age</th>\n",
       "      <th>Rating</th>\n",
       "      <th>Total Price</th>\n",
       "      <th>Unit Price</th>\n",
       "      <th>Quantity</th>\n",
       "      <th>Add-on Total</th>\n",
       "    </tr>\n",
       "  </thead>\n",
       "  <tbody>\n",
       "    <tr>\n",
       "      <th>count</th>\n",
       "      <td>15132.000000</td>\n",
       "      <td>15132.000000</td>\n",
       "      <td>15132.000000</td>\n",
       "      <td>15132.000000</td>\n",
       "      <td>15132.000000</td>\n",
       "      <td>15132.000000</td>\n",
       "    </tr>\n",
       "    <tr>\n",
       "      <th>mean</th>\n",
       "      <td>48.992400</td>\n",
       "      <td>3.088686</td>\n",
       "      <td>3184.261850</td>\n",
       "      <td>580.367742</td>\n",
       "      <td>5.473236</td>\n",
       "      <td>82.269162</td>\n",
       "    </tr>\n",
       "    <tr>\n",
       "      <th>std</th>\n",
       "      <td>18.020315</td>\n",
       "      <td>1.226645</td>\n",
       "      <td>2547.867058</td>\n",
       "      <td>311.934802</td>\n",
       "      <td>2.879513</td>\n",
       "      <td>52.988196</td>\n",
       "    </tr>\n",
       "    <tr>\n",
       "      <th>min</th>\n",
       "      <td>18.000000</td>\n",
       "      <td>1.000000</td>\n",
       "      <td>20.750000</td>\n",
       "      <td>20.750000</td>\n",
       "      <td>1.000000</td>\n",
       "      <td>5.010000</td>\n",
       "    </tr>\n",
       "    <tr>\n",
       "      <th>25%</th>\n",
       "      <td>34.000000</td>\n",
       "      <td>2.000000</td>\n",
       "      <td>1139.680000</td>\n",
       "      <td>361.180000</td>\n",
       "      <td>3.000000</td>\n",
       "      <td>42.360000</td>\n",
       "    </tr>\n",
       "    <tr>\n",
       "      <th>50%</th>\n",
       "      <td>49.000000</td>\n",
       "      <td>3.000000</td>\n",
       "      <td>2534.490000</td>\n",
       "      <td>674.320000</td>\n",
       "      <td>5.000000</td>\n",
       "      <td>71.990000</td>\n",
       "    </tr>\n",
       "    <tr>\n",
       "      <th>75%</th>\n",
       "      <td>65.000000</td>\n",
       "      <td>4.000000</td>\n",
       "      <td>4639.600000</td>\n",
       "      <td>791.190000</td>\n",
       "      <td>8.000000</td>\n",
       "      <td>108.965000</td>\n",
       "    </tr>\n",
       "    <tr>\n",
       "      <th>max</th>\n",
       "      <td>80.000000</td>\n",
       "      <td>5.000000</td>\n",
       "      <td>11396.800000</td>\n",
       "      <td>1139.680000</td>\n",
       "      <td>10.000000</td>\n",
       "      <td>292.770000</td>\n",
       "    </tr>\n",
       "  </tbody>\n",
       "</table>\n",
       "</div>"
      ],
      "text/plain": [
       "                Age        Rating   Total Price    Unit Price      Quantity  \\\n",
       "count  15132.000000  15132.000000  15132.000000  15132.000000  15132.000000   \n",
       "mean      48.992400      3.088686   3184.261850    580.367742      5.473236   \n",
       "std       18.020315      1.226645   2547.867058    311.934802      2.879513   \n",
       "min       18.000000      1.000000     20.750000     20.750000      1.000000   \n",
       "25%       34.000000      2.000000   1139.680000    361.180000      3.000000   \n",
       "50%       49.000000      3.000000   2534.490000    674.320000      5.000000   \n",
       "75%       65.000000      4.000000   4639.600000    791.190000      8.000000   \n",
       "max       80.000000      5.000000  11396.800000   1139.680000     10.000000   \n",
       "\n",
       "       Add-on Total  \n",
       "count  15132.000000  \n",
       "mean      82.269162  \n",
       "std       52.988196  \n",
       "min        5.010000  \n",
       "25%       42.360000  \n",
       "50%       71.990000  \n",
       "75%      108.965000  \n",
       "max      292.770000  "
      ]
     },
     "execution_count": 95,
     "metadata": {},
     "output_type": "execute_result"
    }
   ],
   "source": [
    "data.describe()"
   ]
  },
  {
   "cell_type": "code",
   "execution_count": 96,
   "id": "077b6d4c",
   "metadata": {},
   "outputs": [
    {
     "data": {
      "text/plain": [
       "0"
      ]
     },
     "execution_count": 96,
     "metadata": {},
     "output_type": "execute_result"
    }
   ],
   "source": [
    "data.duplicated().sum()"
   ]
  },
  {
   "cell_type": "code",
   "execution_count": 97,
   "id": "935125df",
   "metadata": {},
   "outputs": [
    {
     "data": {
      "text/html": [
       "<div>\n",
       "<style scoped>\n",
       "    .dataframe tbody tr th:only-of-type {\n",
       "        vertical-align: middle;\n",
       "    }\n",
       "\n",
       "    .dataframe tbody tr th {\n",
       "        vertical-align: top;\n",
       "    }\n",
       "\n",
       "    .dataframe thead th {\n",
       "        text-align: right;\n",
       "    }\n",
       "</style>\n",
       "<table border=\"1\" class=\"dataframe\">\n",
       "  <thead>\n",
       "    <tr style=\"text-align: right;\">\n",
       "      <th></th>\n",
       "      <th>Age</th>\n",
       "      <th>Total Price</th>\n",
       "    </tr>\n",
       "    <tr>\n",
       "      <th>Customer ID</th>\n",
       "      <th></th>\n",
       "      <th></th>\n",
       "    </tr>\n",
       "  </thead>\n",
       "  <tbody>\n",
       "    <tr>\n",
       "      <th>1000</th>\n",
       "      <td>53</td>\n",
       "      <td>5538.33</td>\n",
       "    </tr>\n",
       "    <tr>\n",
       "      <th>1000</th>\n",
       "      <td>53</td>\n",
       "      <td>741.09</td>\n",
       "    </tr>\n",
       "    <tr>\n",
       "      <th>1002</th>\n",
       "      <td>41</td>\n",
       "      <td>3164.76</td>\n",
       "    </tr>\n",
       "    <tr>\n",
       "      <th>1003</th>\n",
       "      <td>75</td>\n",
       "      <td>41.50</td>\n",
       "    </tr>\n",
       "    <tr>\n",
       "      <th>1004</th>\n",
       "      <td>41</td>\n",
       "      <td>83.00</td>\n",
       "    </tr>\n",
       "  </tbody>\n",
       "</table>\n",
       "</div>"
      ],
      "text/plain": [
       "             Age  Total Price\n",
       "Customer ID                  \n",
       "1000          53      5538.33\n",
       "1000          53       741.09\n",
       "1002          41      3164.76\n",
       "1003          75        41.50\n",
       "1004          41        83.00"
      ]
     },
     "execution_count": 97,
     "metadata": {},
     "output_type": "execute_result"
    }
   ],
   "source": [
    "x = data[['Age', 'Total Price']]\n",
    "x.head()"
   ]
  },
  {
   "cell_type": "code",
   "execution_count": 98,
   "id": "ee1a98eb",
   "metadata": {},
   "outputs": [],
   "source": [
    "scaler = MinMaxScaler(feature_range = (x['Total Price'].min(), x['Total Price'].max()))"
   ]
  },
  {
   "cell_type": "code",
   "execution_count": 99,
   "id": "5bba0c02",
   "metadata": {},
   "outputs": [],
   "source": [
    "x['Age'] = scaler.fit_transform(x[['Age']])"
   ]
  },
  {
   "cell_type": "code",
   "execution_count": 100,
   "id": "94172dff",
   "metadata": {},
   "outputs": [
    {
     "data": {
      "text/html": [
       "<div>\n",
       "<style scoped>\n",
       "    .dataframe tbody tr th:only-of-type {\n",
       "        vertical-align: middle;\n",
       "    }\n",
       "\n",
       "    .dataframe tbody tr th {\n",
       "        vertical-align: top;\n",
       "    }\n",
       "\n",
       "    .dataframe thead th {\n",
       "        text-align: right;\n",
       "    }\n",
       "</style>\n",
       "<table border=\"1\" class=\"dataframe\">\n",
       "  <thead>\n",
       "    <tr style=\"text-align: right;\">\n",
       "      <th></th>\n",
       "      <th>Age</th>\n",
       "      <th>Total Price</th>\n",
       "    </tr>\n",
       "    <tr>\n",
       "      <th>Customer ID</th>\n",
       "      <th></th>\n",
       "      <th></th>\n",
       "    </tr>\n",
       "  </thead>\n",
       "  <tbody>\n",
       "    <tr>\n",
       "      <th>1000</th>\n",
       "      <td>6442.713710</td>\n",
       "      <td>5538.33</td>\n",
       "    </tr>\n",
       "    <tr>\n",
       "      <th>1000</th>\n",
       "      <td>6442.713710</td>\n",
       "      <td>741.09</td>\n",
       "    </tr>\n",
       "    <tr>\n",
       "      <th>1002</th>\n",
       "      <td>4240.897581</td>\n",
       "      <td>3164.76</td>\n",
       "    </tr>\n",
       "    <tr>\n",
       "      <th>1003</th>\n",
       "      <td>10479.376613</td>\n",
       "      <td>41.50</td>\n",
       "    </tr>\n",
       "    <tr>\n",
       "      <th>1004</th>\n",
       "      <td>4240.897581</td>\n",
       "      <td>83.00</td>\n",
       "    </tr>\n",
       "  </tbody>\n",
       "</table>\n",
       "</div>"
      ],
      "text/plain": [
       "                      Age  Total Price\n",
       "Customer ID                           \n",
       "1000          6442.713710      5538.33\n",
       "1000          6442.713710       741.09\n",
       "1002          4240.897581      3164.76\n",
       "1003         10479.376613        41.50\n",
       "1004          4240.897581        83.00"
      ]
     },
     "execution_count": 100,
     "metadata": {},
     "output_type": "execute_result"
    }
   ],
   "source": [
    "x.head()"
   ]
  },
  {
   "cell_type": "code",
   "execution_count": 101,
   "id": "9dafffb0",
   "metadata": {},
   "outputs": [
    {
     "data": {
      "image/png": "[encoded data removed]",
      "text/plain": [
       "<Figure size 720x720 with 4 Axes>"
      ]
     },
     "metadata": {
      "needs_background": "light"
     },
     "output_type": "display_data"
    }
   ],
   "source": [
    "sns.clustermap(x, cmap = 'vlag')\n",
    "plt.show()"
   ]
  },
  {
   "cell_type": "code",
   "execution_count": 106,
   "id": "cea23bd5",
   "metadata": {},
   "outputs": [],
   "source": [
    "x2 = data[['Age', 'Total Price']]"
   ]
  },
  {
   "cell_type": "code",
   "execution_count": 107,
   "id": "980fd232",
   "metadata": {},
   "outputs": [],
   "source": [
    "scaler2 = StandardScaler()"
   ]
  },
  {
   "cell_type": "code",
   "execution_count": 108,
   "id": "796ac447",
   "metadata": {},
   "outputs": [],
   "source": [
    "x2['Age'] = scaler2.fit_transform(x2[['Age']])\n",
    "x2['Total Price'] = scaler2.fit_transform(x2[['Total Price']])"
   ]
  },
  {
   "cell_type": "code",
   "execution_count": 110,
   "id": "91e8d793",
   "metadata": {},
   "outputs": [
    {
     "data": {
      "text/html": [
       "<div>\n",
       "<style scoped>\n",
       "    .dataframe tbody tr th:only-of-type {\n",
       "        vertical-align: middle;\n",
       "    }\n",
       "\n",
       "    .dataframe tbody tr th {\n",
       "        vertical-align: top;\n",
       "    }\n",
       "\n",
       "    .dataframe thead th {\n",
       "        text-align: right;\n",
       "    }\n",
       "</style>\n",
       "<table border=\"1\" class=\"dataframe\">\n",
       "  <thead>\n",
       "    <tr style=\"text-align: right;\">\n",
       "      <th></th>\n",
       "      <th>Age</th>\n",
       "      <th>Total Price</th>\n",
       "    </tr>\n",
       "    <tr>\n",
       "      <th>Customer ID</th>\n",
       "      <th></th>\n",
       "      <th></th>\n",
       "    </tr>\n",
       "  </thead>\n",
       "  <tbody>\n",
       "    <tr>\n",
       "      <th>1000</th>\n",
       "      <td>0.222401</td>\n",
       "      <td>0.923967</td>\n",
       "    </tr>\n",
       "    <tr>\n",
       "      <th>1000</th>\n",
       "      <td>0.222401</td>\n",
       "      <td>-0.958940</td>\n",
       "    </tr>\n",
       "    <tr>\n",
       "      <th>1002</th>\n",
       "      <td>-0.443536</td>\n",
       "      <td>-0.007654</td>\n",
       "    </tr>\n",
       "    <tr>\n",
       "      <th>1003</th>\n",
       "      <td>1.443285</td>\n",
       "      <td>-1.233528</td>\n",
       "    </tr>\n",
       "    <tr>\n",
       "      <th>1004</th>\n",
       "      <td>-0.443536</td>\n",
       "      <td>-1.217239</td>\n",
       "    </tr>\n",
       "  </tbody>\n",
       "</table>\n",
       "</div>"
      ],
      "text/plain": [
       "                  Age  Total Price\n",
       "Customer ID                       \n",
       "1000         0.222401     0.923967\n",
       "1000         0.222401    -0.958940\n",
       "1002        -0.443536    -0.007654\n",
       "1003         1.443285    -1.233528\n",
       "1004        -0.443536    -1.217239"
      ]
     },
     "execution_count": 110,
     "metadata": {},
     "output_type": "execute_result"
    }
   ],
   "source": [
    "x2_scaled_df = pd.DataFrame(data = x2, columns = ['Age', 'Total Price'])\n",
    "x2_scaled_df.head()"
   ]
  },
  {
   "cell_type": "code",
   "execution_count": 111,
   "id": "c0f1c522",
   "metadata": {},
   "outputs": [
    {
     "data": {
      "image/png": "[encoded data removed]",
      "text/plain": [
       "<Figure size 720x720 with 4 Axes>"
      ]
     },
     "metadata": {
      "needs_background": "light"
     },
     "output_type": "display_data"
    }
   ],
   "source": [
    "sns.clustermap(x2_scaled_df, cmap = 'vlag')\n",
    "plt.show()"
   ]
  },
  {
   "cell_type": "code",
   "execution_count": 112,
   "id": "bc4cc74a",
   "metadata": {},
   "outputs": [
    {
     "data": {
      "text/html": [
       "<div>\n",
       "<style scoped>\n",
       "    .dataframe tbody tr th:only-of-type {\n",
       "        vertical-align: middle;\n",
       "    }\n",
       "\n",
       "    .dataframe tbody tr th {\n",
       "        vertical-align: top;\n",
       "    }\n",
       "\n",
       "    .dataframe thead th {\n",
       "        text-align: right;\n",
       "    }\n",
       "</style>\n",
       "<table border=\"1\" class=\"dataframe\">\n",
       "  <thead>\n",
       "    <tr style=\"text-align: right;\">\n",
       "      <th></th>\n",
       "      <th>Longitude</th>\n",
       "      <th>Latitude</th>\n",
       "      <th>continent</th>\n",
       "    </tr>\n",
       "    <tr>\n",
       "      <th>name</th>\n",
       "      <th></th>\n",
       "      <th></th>\n",
       "      <th></th>\n",
       "    </tr>\n",
       "  </thead>\n",
       "  <tbody>\n",
       "    <tr>\n",
       "      <th>Aruba</th>\n",
       "      <td>-69.982677</td>\n",
       "      <td>12.520880</td>\n",
       "      <td>North America</td>\n",
       "    </tr>\n",
       "    <tr>\n",
       "      <th>Afghanistan</th>\n",
       "      <td>66.004734</td>\n",
       "      <td>33.835231</td>\n",
       "      <td>Asia</td>\n",
       "    </tr>\n",
       "    <tr>\n",
       "      <th>Angola</th>\n",
       "      <td>17.537368</td>\n",
       "      <td>-12.293361</td>\n",
       "      <td>Africa</td>\n",
       "    </tr>\n",
       "    <tr>\n",
       "      <th>Anguilla</th>\n",
       "      <td>-63.064989</td>\n",
       "      <td>18.223959</td>\n",
       "      <td>North America</td>\n",
       "    </tr>\n",
       "    <tr>\n",
       "      <th>Albania</th>\n",
       "      <td>20.049834</td>\n",
       "      <td>41.142450</td>\n",
       "      <td>Europe</td>\n",
       "    </tr>\n",
       "  </tbody>\n",
       "</table>\n",
       "</div>"
      ],
      "text/plain": [
       "             Longitude   Latitude      continent\n",
       "name                                            \n",
       "Aruba       -69.982677  12.520880  North America\n",
       "Afghanistan  66.004734  33.835231           Asia\n",
       "Angola       17.537368 -12.293361         Africa\n",
       "Anguilla    -63.064989  18.223959  North America\n",
       "Albania      20.049834  41.142450         Europe"
      ]
     },
     "execution_count": 112,
     "metadata": {},
     "output_type": "execute_result"
    }
   ],
   "source": [
    "df2 = pd.read_csv('2- Countries-Clustering.csv', index_col = 'name')\n",
    "df2.head()"
   ]
  },
  {
   "cell_type": "code",
   "execution_count": 113,
   "id": "090378cd",
   "metadata": {},
   "outputs": [
    {
     "data": {
      "text/plain": [
       "(241, 3)"
      ]
     },
     "execution_count": 113,
     "metadata": {},
     "output_type": "execute_result"
    }
   ],
   "source": [
    "df2.shape"
   ]
  },
  {
   "cell_type": "code",
   "execution_count": 114,
   "id": "dedadbe3",
   "metadata": {},
   "outputs": [
    {
     "name": "stdout",
     "output_type": "stream",
     "text": [
      "<class 'pandas.core.frame.DataFrame'>\n",
      "Index: 241 entries, Aruba to Zimbabwe\n",
      "Data columns (total 3 columns):\n",
      " #   Column     Non-Null Count  Dtype  \n",
      "---  ------     --------------  -----  \n",
      " 0   Longitude  241 non-null    float64\n",
      " 1   Latitude   241 non-null    float64\n",
      " 2   continent  241 non-null    object \n",
      "dtypes: float64(2), object(1)\n",
      "memory usage: 7.5+ KB\n"
     ]
    }
   ],
   "source": [
    "df2.info()"
   ]
  },
  {
   "cell_type": "code",
   "execution_count": 115,
   "id": "02aca2c2",
   "metadata": {},
   "outputs": [
    {
     "data": {
      "text/plain": [
       "Longitude    0\n",
       "Latitude     0\n",
       "continent    0\n",
       "dtype: int64"
      ]
     },
     "execution_count": 115,
     "metadata": {},
     "output_type": "execute_result"
    }
   ],
   "source": [
    "df2.apply(pd.isnull).sum()"
   ]
  },
  {
   "cell_type": "code",
   "execution_count": 116,
   "id": "a138c07e",
   "metadata": {},
   "outputs": [
    {
     "data": {
      "text/plain": [
       "0"
      ]
     },
     "execution_count": 116,
     "metadata": {},
     "output_type": "execute_result"
    }
   ],
   "source": [
    "df2.duplicated().sum()"
   ]
  },
  {
   "cell_type": "code",
   "execution_count": 117,
   "id": "5672a960",
   "metadata": {},
   "outputs": [
    {
     "data": {
      "text/html": [
       "<div>\n",
       "<style scoped>\n",
       "    .dataframe tbody tr th:only-of-type {\n",
       "        vertical-align: middle;\n",
       "    }\n",
       "\n",
       "    .dataframe tbody tr th {\n",
       "        vertical-align: top;\n",
       "    }\n",
       "\n",
       "    .dataframe thead th {\n",
       "        text-align: right;\n",
       "    }\n",
       "</style>\n",
       "<table border=\"1\" class=\"dataframe\">\n",
       "  <thead>\n",
       "    <tr style=\"text-align: right;\">\n",
       "      <th></th>\n",
       "      <th>Longitude</th>\n",
       "      <th>Latitude</th>\n",
       "    </tr>\n",
       "  </thead>\n",
       "  <tbody>\n",
       "    <tr>\n",
       "      <th>count</th>\n",
       "      <td>241.000000</td>\n",
       "      <td>241.000000</td>\n",
       "    </tr>\n",
       "    <tr>\n",
       "      <th>mean</th>\n",
       "      <td>14.215380</td>\n",
       "      <td>17.169377</td>\n",
       "    </tr>\n",
       "    <tr>\n",
       "      <th>std</th>\n",
       "      <td>72.013654</td>\n",
       "      <td>26.554014</td>\n",
       "    </tr>\n",
       "    <tr>\n",
       "      <th>min</th>\n",
       "      <td>-177.348348</td>\n",
       "      <td>-80.508579</td>\n",
       "    </tr>\n",
       "    <tr>\n",
       "      <th>25%</th>\n",
       "      <td>-36.433184</td>\n",
       "      <td>1.358761</td>\n",
       "    </tr>\n",
       "    <tr>\n",
       "      <th>50%</th>\n",
       "      <td>18.644925</td>\n",
       "      <td>17.277500</td>\n",
       "    </tr>\n",
       "    <tr>\n",
       "      <th>75%</th>\n",
       "      <td>47.587005</td>\n",
       "      <td>39.115541</td>\n",
       "    </tr>\n",
       "    <tr>\n",
       "      <th>max</th>\n",
       "      <td>171.484924</td>\n",
       "      <td>74.710513</td>\n",
       "    </tr>\n",
       "  </tbody>\n",
       "</table>\n",
       "</div>"
      ],
      "text/plain": [
       "        Longitude    Latitude\n",
       "count  241.000000  241.000000\n",
       "mean    14.215380   17.169377\n",
       "std     72.013654   26.554014\n",
       "min   -177.348348  -80.508579\n",
       "25%    -36.433184    1.358761\n",
       "50%     18.644925   17.277500\n",
       "75%     47.587005   39.115541\n",
       "max    171.484924   74.710513"
      ]
     },
     "execution_count": 117,
     "metadata": {},
     "output_type": "execute_result"
    }
   ],
   "source": [
    "df2.describe()"
   ]
  },
  {
   "cell_type": "code",
   "execution_count": 119,
   "id": "9eae3c74",
   "metadata": {},
   "outputs": [
    {
     "data": {
      "text/html": [
       "<div>\n",
       "<style scoped>\n",
       "    .dataframe tbody tr th:only-of-type {\n",
       "        vertical-align: middle;\n",
       "    }\n",
       "\n",
       "    .dataframe tbody tr th {\n",
       "        vertical-align: top;\n",
       "    }\n",
       "\n",
       "    .dataframe thead th {\n",
       "        text-align: right;\n",
       "    }\n",
       "</style>\n",
       "<table border=\"1\" class=\"dataframe\">\n",
       "  <thead>\n",
       "    <tr style=\"text-align: right;\">\n",
       "      <th></th>\n",
       "      <th>Longitude</th>\n",
       "      <th>Latitude</th>\n",
       "    </tr>\n",
       "    <tr>\n",
       "      <th>name</th>\n",
       "      <th></th>\n",
       "      <th></th>\n",
       "    </tr>\n",
       "  </thead>\n",
       "  <tbody>\n",
       "    <tr>\n",
       "      <th>Aruba</th>\n",
       "      <td>-1.171629</td>\n",
       "      <td>-0.175422</td>\n",
       "    </tr>\n",
       "    <tr>\n",
       "      <th>Afghanistan</th>\n",
       "      <td>0.720657</td>\n",
       "      <td>0.628927</td>\n",
       "    </tr>\n",
       "    <tr>\n",
       "      <th>Angola</th>\n",
       "      <td>0.046226</td>\n",
       "      <td>-1.111849</td>\n",
       "    </tr>\n",
       "    <tr>\n",
       "      <th>Anguilla</th>\n",
       "      <td>-1.075368</td>\n",
       "      <td>0.039797</td>\n",
       "    </tr>\n",
       "    <tr>\n",
       "      <th>Albania</th>\n",
       "      <td>0.081187</td>\n",
       "      <td>0.904683</td>\n",
       "    </tr>\n",
       "  </tbody>\n",
       "</table>\n",
       "</div>"
      ],
      "text/plain": [
       "             Longitude  Latitude\n",
       "name                            \n",
       "Aruba        -1.171629 -0.175422\n",
       "Afghanistan   0.720657  0.628927\n",
       "Angola        0.046226 -1.111849\n",
       "Anguilla     -1.075368  0.039797\n",
       "Albania       0.081187  0.904683"
      ]
     },
     "execution_count": 119,
     "metadata": {},
     "output_type": "execute_result"
    }
   ],
   "source": [
    "x3 = df2.drop(columns = ['continent'], axis = 1)\n",
    "x3['Longitude'] = scaler2.fit_transform(x3[['Longitude']])\n",
    "x3['Latitude'] = scaler2.fit_transform(x3[['Latitude']])\n",
    "x3.head()"
   ]
  },
  {
   "cell_type": "code",
   "execution_count": 120,
   "id": "46b10cd0",
   "metadata": {},
   "outputs": [
    {
     "data": {
      "image/png": "[encoded data removed]",
      "text/plain": [
       "<Figure size 720x720 with 4 Axes>"
      ]
     },
     "metadata": {
      "needs_background": "light"
     },
     "output_type": "display_data"
    }
   ],
   "source": [
    "sns.clustermap(x3, cmap = 'vlag')\n",
    "plt.show()"
   ]
  }
 ],
 "metadata": {
  "kernelspec": {
   "display_name": "Python 3 (ipykernel)",
   "language": "python",
   "name": "python3"
  },
  "language_info": {
   "codemirror_mode": {
    "name": "ipython",
    "version": 3
   },
   "file_extension": ".py",
   "mimetype": "text/x-python",
   "name": "python",
   "nbconvert_exporter": "python",
   "pygments_lexer": "ipython3",
   "version": "3.10.5"
  }
 },
 "nbformat": 4,
 "nbformat_minor": 5
}
